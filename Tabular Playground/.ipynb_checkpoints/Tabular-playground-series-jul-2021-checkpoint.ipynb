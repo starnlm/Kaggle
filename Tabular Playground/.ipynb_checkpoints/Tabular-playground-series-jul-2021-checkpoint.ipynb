{
 "cells": [
  {
   "cell_type": "code",
   "execution_count": 5,
   "metadata": {
    "ExecuteTime": {
     "end_time": "2021-07-15T12:46:06.694466Z",
     "start_time": "2021-07-15T12:46:06.680466Z"
    }
   },
   "outputs": [],
   "source": [
    "import pandas as pd\n",
    "import numpy as np\n",
    "import matplotlib.pyplot as plt\n",
    "import seaborn as sns\n",
    "import module as md\n",
    "import missingno as msno\n",
    "from sklearn.tree import DecisionTreeRegressor\n",
    "from sklearn.ensemble import RandomForestRegressor\n",
    "from sklearn.linear_model import LinearRegression\n",
    "from sklearn.model_selection import train_test_split\n",
    "import xgboost as xgb\n",
    "import statsmodels.api as sm"
   ]
  },
  {
   "cell_type": "code",
   "execution_count": 94,
   "metadata": {
    "ExecuteTime": {
     "end_time": "2021-07-15T13:48:06.501576Z",
     "start_time": "2021-07-15T13:47:59.215574Z"
    }
   },
   "outputs": [],
   "source": []
  },
  {
   "cell_type": "code",
   "execution_count": 17,
   "metadata": {
    "ExecuteTime": {
     "end_time": "2021-07-15T12:50:45.530546Z",
     "start_time": "2021-07-15T12:50:45.282473Z"
    }
   },
   "outputs": [],
   "source": [
    "train = pd.read_csv('E:/DATA SETS/tabular-playground/train.csv', parse_dates=['date_time'])\n",
    "test = pd.read_csv('E:/DATA SETS/tabular-playground/test.csv', parse_dates=['date_time'])\n",
    "sub = pd.read_csv('E:/DATA SETS/tabular-playground/sample_submission.csv')"
   ]
  },
  {
   "cell_type": "code",
   "execution_count": 59,
   "metadata": {
    "ExecuteTime": {
     "end_time": "2021-07-15T13:17:35.381267Z",
     "start_time": "2021-07-15T13:17:35.318271Z"
    }
   },
   "outputs": [
    {
     "name": "stdout",
     "output_type": "stream",
     "text": [
      "There are 18 columns and 7111 rows in the dataset\n",
      "\n",
      "----------\n",
      "\n",
      "Null values\n",
      "There are no null values\n",
      "\n",
      "----------\n",
      "\n",
      "The columns and their datatypes are\n",
      "date_time                 datetime64[ns]\n",
      "deg_C                            float64\n",
      "relative_humidity                float64\n",
      "absolute_humidity                float64\n",
      "sensor_1                         float64\n",
      "sensor_2                         float64\n",
      "sensor_3                         float64\n",
      "sensor_4                         float64\n",
      "sensor_5                         float64\n",
      "target_carbon_monoxide           float64\n",
      "target_benzene                   float64\n",
      "target_nitrogen_oxides           float64\n",
      "year                               int64\n",
      "quarter                            int64\n",
      "day                                int64\n",
      "hour                               int64\n",
      "weekday                            int64\n",
      "month                              int64\n",
      "dtype: object\n",
      "\n",
      "\n",
      "5 random data points\n"
     ]
    },
    {
     "data": {
      "text/html": [
       "<div>\n",
       "<style scoped>\n",
       "    .dataframe tbody tr th:only-of-type {\n",
       "        vertical-align: middle;\n",
       "    }\n",
       "\n",
       "    .dataframe tbody tr th {\n",
       "        vertical-align: top;\n",
       "    }\n",
       "\n",
       "    .dataframe thead th {\n",
       "        text-align: right;\n",
       "    }\n",
       "</style>\n",
       "<table border=\"1\" class=\"dataframe\">\n",
       "  <thead>\n",
       "    <tr style=\"text-align: right;\">\n",
       "      <th></th>\n",
       "      <th>date_time</th>\n",
       "      <th>deg_C</th>\n",
       "      <th>relative_humidity</th>\n",
       "      <th>absolute_humidity</th>\n",
       "      <th>sensor_1</th>\n",
       "      <th>sensor_2</th>\n",
       "      <th>sensor_3</th>\n",
       "      <th>sensor_4</th>\n",
       "      <th>sensor_5</th>\n",
       "      <th>target_carbon_monoxide</th>\n",
       "      <th>target_benzene</th>\n",
       "      <th>target_nitrogen_oxides</th>\n",
       "      <th>year</th>\n",
       "      <th>quarter</th>\n",
       "      <th>day</th>\n",
       "      <th>hour</th>\n",
       "      <th>weekday</th>\n",
       "      <th>month</th>\n",
       "    </tr>\n",
       "  </thead>\n",
       "  <tbody>\n",
       "    <tr>\n",
       "      <th>398</th>\n",
       "      <td>2010-03-27 08:00:00</td>\n",
       "      <td>7.6</td>\n",
       "      <td>63.3</td>\n",
       "      <td>0.6500</td>\n",
       "      <td>1067.8</td>\n",
       "      <td>867.3</td>\n",
       "      <td>1060.5</td>\n",
       "      <td>1389.6</td>\n",
       "      <td>926.6</td>\n",
       "      <td>1.5</td>\n",
       "      <td>6.5</td>\n",
       "      <td>103.9</td>\n",
       "      <td>2010</td>\n",
       "      <td>1</td>\n",
       "      <td>27</td>\n",
       "      <td>8</td>\n",
       "      <td>5</td>\n",
       "      <td>3</td>\n",
       "    </tr>\n",
       "    <tr>\n",
       "      <th>3444</th>\n",
       "      <td>2010-08-01 06:00:00</td>\n",
       "      <td>21.9</td>\n",
       "      <td>63.2</td>\n",
       "      <td>1.7547</td>\n",
       "      <td>872.0</td>\n",
       "      <td>658.4</td>\n",
       "      <td>947.2</td>\n",
       "      <td>1621.8</td>\n",
       "      <td>710.2</td>\n",
       "      <td>0.4</td>\n",
       "      <td>2.7</td>\n",
       "      <td>24.7</td>\n",
       "      <td>2010</td>\n",
       "      <td>3</td>\n",
       "      <td>1</td>\n",
       "      <td>6</td>\n",
       "      <td>6</td>\n",
       "      <td>8</td>\n",
       "    </tr>\n",
       "    <tr>\n",
       "      <th>447</th>\n",
       "      <td>2010-03-29 09:00:00</td>\n",
       "      <td>11.4</td>\n",
       "      <td>38.7</td>\n",
       "      <td>0.5184</td>\n",
       "      <td>956.3</td>\n",
       "      <td>770.3</td>\n",
       "      <td>1044.3</td>\n",
       "      <td>1220.3</td>\n",
       "      <td>698.0</td>\n",
       "      <td>1.5</td>\n",
       "      <td>5.5</td>\n",
       "      <td>114.5</td>\n",
       "      <td>2010</td>\n",
       "      <td>1</td>\n",
       "      <td>29</td>\n",
       "      <td>9</td>\n",
       "      <td>0</td>\n",
       "      <td>3</td>\n",
       "    </tr>\n",
       "    <tr>\n",
       "      <th>2491</th>\n",
       "      <td>2010-06-22 13:00:00</td>\n",
       "      <td>29.5</td>\n",
       "      <td>24.3</td>\n",
       "      <td>1.1444</td>\n",
       "      <td>1109.8</td>\n",
       "      <td>1262.6</td>\n",
       "      <td>735.3</td>\n",
       "      <td>1873.8</td>\n",
       "      <td>1041.6</td>\n",
       "      <td>3.2</td>\n",
       "      <td>18.1</td>\n",
       "      <td>245.9</td>\n",
       "      <td>2010</td>\n",
       "      <td>2</td>\n",
       "      <td>22</td>\n",
       "      <td>13</td>\n",
       "      <td>1</td>\n",
       "      <td>6</td>\n",
       "    </tr>\n",
       "    <tr>\n",
       "      <th>2750</th>\n",
       "      <td>2010-07-03 08:00:00</td>\n",
       "      <td>23.2</td>\n",
       "      <td>42.1</td>\n",
       "      <td>1.2344</td>\n",
       "      <td>1196.5</td>\n",
       "      <td>1141.3</td>\n",
       "      <td>622.1</td>\n",
       "      <td>1885.0</td>\n",
       "      <td>1387.0</td>\n",
       "      <td>2.4</td>\n",
       "      <td>15.1</td>\n",
       "      <td>220.5</td>\n",
       "      <td>2010</td>\n",
       "      <td>3</td>\n",
       "      <td>3</td>\n",
       "      <td>8</td>\n",
       "      <td>5</td>\n",
       "      <td>7</td>\n",
       "    </tr>\n",
       "  </tbody>\n",
       "</table>\n",
       "</div>"
      ],
      "text/plain": [
       "               date_time  deg_C  relative_humidity  absolute_humidity  \\\n",
       "398  2010-03-27 08:00:00    7.6               63.3             0.6500   \n",
       "3444 2010-08-01 06:00:00   21.9               63.2             1.7547   \n",
       "447  2010-03-29 09:00:00   11.4               38.7             0.5184   \n",
       "2491 2010-06-22 13:00:00   29.5               24.3             1.1444   \n",
       "2750 2010-07-03 08:00:00   23.2               42.1             1.2344   \n",
       "\n",
       "      sensor_1  sensor_2  sensor_3  sensor_4  sensor_5  \\\n",
       "398     1067.8     867.3    1060.5    1389.6     926.6   \n",
       "3444     872.0     658.4     947.2    1621.8     710.2   \n",
       "447      956.3     770.3    1044.3    1220.3     698.0   \n",
       "2491    1109.8    1262.6     735.3    1873.8    1041.6   \n",
       "2750    1196.5    1141.3     622.1    1885.0    1387.0   \n",
       "\n",
       "      target_carbon_monoxide  target_benzene  target_nitrogen_oxides  year  \\\n",
       "398                      1.5             6.5                   103.9  2010   \n",
       "3444                     0.4             2.7                    24.7  2010   \n",
       "447                      1.5             5.5                   114.5  2010   \n",
       "2491                     3.2            18.1                   245.9  2010   \n",
       "2750                     2.4            15.1                   220.5  2010   \n",
       "\n",
       "      quarter  day  hour  weekday  month  \n",
       "398         1   27     8        5      3  \n",
       "3444        3    1     6        6      8  \n",
       "447         1   29     9        0      3  \n",
       "2491        2   22    13        1      6  \n",
       "2750        3    3     8        5      7  "
      ]
     },
     "execution_count": 59,
     "metadata": {},
     "output_type": "execute_result"
    }
   ],
   "source": [
    "md.summary(train, sample = True)"
   ]
  },
  {
   "cell_type": "code",
   "execution_count": 19,
   "metadata": {
    "ExecuteTime": {
     "end_time": "2021-07-15T12:50:55.765469Z",
     "start_time": "2021-07-15T12:50:55.716463Z"
    }
   },
   "outputs": [
    {
     "name": "stdout",
     "output_type": "stream",
     "text": [
      "There are 9 columns and 2247 rows in the dataset\n",
      "\n",
      "----------\n",
      "\n",
      "Null values\n",
      "There are no null values\n",
      "\n",
      "----------\n",
      "\n",
      "The columns and their datatypes are\n",
      "date_time            datetime64[ns]\n",
      "deg_C                       float64\n",
      "relative_humidity           float64\n",
      "absolute_humidity           float64\n",
      "sensor_1                    float64\n",
      "sensor_2                    float64\n",
      "sensor_3                    float64\n",
      "sensor_4                    float64\n",
      "sensor_5                    float64\n",
      "dtype: object\n",
      "\n",
      "\n",
      "5 random data points\n"
     ]
    },
    {
     "data": {
      "text/html": [
       "<div>\n",
       "<style scoped>\n",
       "    .dataframe tbody tr th:only-of-type {\n",
       "        vertical-align: middle;\n",
       "    }\n",
       "\n",
       "    .dataframe tbody tr th {\n",
       "        vertical-align: top;\n",
       "    }\n",
       "\n",
       "    .dataframe thead th {\n",
       "        text-align: right;\n",
       "    }\n",
       "</style>\n",
       "<table border=\"1\" class=\"dataframe\">\n",
       "  <thead>\n",
       "    <tr style=\"text-align: right;\">\n",
       "      <th></th>\n",
       "      <th>date_time</th>\n",
       "      <th>deg_C</th>\n",
       "      <th>relative_humidity</th>\n",
       "      <th>absolute_humidity</th>\n",
       "      <th>sensor_1</th>\n",
       "      <th>sensor_2</th>\n",
       "      <th>sensor_3</th>\n",
       "      <th>sensor_4</th>\n",
       "      <th>sensor_5</th>\n",
       "    </tr>\n",
       "  </thead>\n",
       "  <tbody>\n",
       "    <tr>\n",
       "      <th>1652</th>\n",
       "      <td>2011-03-10 20:00:00</td>\n",
       "      <td>13.2</td>\n",
       "      <td>23.7</td>\n",
       "      <td>0.3364</td>\n",
       "      <td>1239.9</td>\n",
       "      <td>1343.0</td>\n",
       "      <td>502.0</td>\n",
       "      <td>1385.1</td>\n",
       "      <td>1658.7</td>\n",
       "    </tr>\n",
       "    <tr>\n",
       "      <th>132</th>\n",
       "      <td>2011-01-06 12:00:00</td>\n",
       "      <td>14.7</td>\n",
       "      <td>52.4</td>\n",
       "      <td>0.9515</td>\n",
       "      <td>1056.6</td>\n",
       "      <td>748.6</td>\n",
       "      <td>747.8</td>\n",
       "      <td>1220.7</td>\n",
       "      <td>956.8</td>\n",
       "    </tr>\n",
       "    <tr>\n",
       "      <th>1796</th>\n",
       "      <td>2011-03-16 20:00:00</td>\n",
       "      <td>18.6</td>\n",
       "      <td>36.1</td>\n",
       "      <td>0.8152</td>\n",
       "      <td>1538.8</td>\n",
       "      <td>1367.2</td>\n",
       "      <td>422.0</td>\n",
       "      <td>1710.5</td>\n",
       "      <td>1935.4</td>\n",
       "    </tr>\n",
       "    <tr>\n",
       "      <th>1639</th>\n",
       "      <td>2011-03-10 07:00:00</td>\n",
       "      <td>4.2</td>\n",
       "      <td>76.1</td>\n",
       "      <td>0.6395</td>\n",
       "      <td>1113.8</td>\n",
       "      <td>797.8</td>\n",
       "      <td>727.2</td>\n",
       "      <td>1200.2</td>\n",
       "      <td>1100.9</td>\n",
       "    </tr>\n",
       "    <tr>\n",
       "      <th>1295</th>\n",
       "      <td>2011-02-23 23:00:00</td>\n",
       "      <td>4.2</td>\n",
       "      <td>74.8</td>\n",
       "      <td>0.6479</td>\n",
       "      <td>965.2</td>\n",
       "      <td>736.6</td>\n",
       "      <td>783.8</td>\n",
       "      <td>1116.2</td>\n",
       "      <td>1020.0</td>\n",
       "    </tr>\n",
       "  </tbody>\n",
       "</table>\n",
       "</div>"
      ],
      "text/plain": [
       "               date_time  deg_C  relative_humidity  absolute_humidity  \\\n",
       "1652 2011-03-10 20:00:00   13.2               23.7             0.3364   \n",
       "132  2011-01-06 12:00:00   14.7               52.4             0.9515   \n",
       "1796 2011-03-16 20:00:00   18.6               36.1             0.8152   \n",
       "1639 2011-03-10 07:00:00    4.2               76.1             0.6395   \n",
       "1295 2011-02-23 23:00:00    4.2               74.8             0.6479   \n",
       "\n",
       "      sensor_1  sensor_2  sensor_3  sensor_4  sensor_5  \n",
       "1652    1239.9    1343.0     502.0    1385.1    1658.7  \n",
       "132     1056.6     748.6     747.8    1220.7     956.8  \n",
       "1796    1538.8    1367.2     422.0    1710.5    1935.4  \n",
       "1639    1113.8     797.8     727.2    1200.2    1100.9  \n",
       "1295     965.2     736.6     783.8    1116.2    1020.0  "
      ]
     },
     "execution_count": 19,
     "metadata": {},
     "output_type": "execute_result"
    }
   ],
   "source": [
    "md.summary(test, sample = True)"
   ]
  },
  {
   "cell_type": "code",
   "execution_count": 31,
   "metadata": {
    "ExecuteTime": {
     "end_time": "2021-07-15T12:58:03.126871Z",
     "start_time": "2021-07-15T12:58:02.056874Z"
    }
   },
   "outputs": [
    {
     "data": {
      "text/plain": [
       "<matplotlib.axes._subplots.AxesSubplot at 0x1ede1f41780>"
      ]
     },
     "execution_count": 31,
     "metadata": {},
     "output_type": "execute_result"
    },
    {
     "data": {
      "image/png": "[encoded data removed]",
      "text/plain": [
       "<Figure size 1080x360 with 1 Axes>"
      ]
     },
     "metadata": {
      "needs_background": "light"
     },
     "output_type": "display_data"
    }
   ],
   "source": [
    "f, ax = plt.subplots(figsize=(15, 5))\n",
    "sns.barplot(x=train['date_time'].dt.month, y = 'absolute_humidity', data = train)"
   ]
  },
  {
   "cell_type": "code",
   "execution_count": 32,
   "metadata": {
    "ExecuteTime": {
     "end_time": "2021-07-15T13:00:29.181884Z",
     "start_time": "2021-07-15T13:00:29.124873Z"
    }
   },
   "outputs": [],
   "source": [
    "corr = train.corr()"
   ]
  },
  {
   "cell_type": "code",
   "execution_count": 36,
   "metadata": {
    "ExecuteTime": {
     "end_time": "2021-07-15T13:03:16.845879Z",
     "start_time": "2021-07-15T13:03:15.604873Z"
    }
   },
   "outputs": [
    {
     "data": {
      "text/plain": [
       "<matplotlib.axes._subplots.AxesSubplot at 0x1ede59f7668>"
      ]
     },
     "execution_count": 36,
     "metadata": {},
     "output_type": "execute_result"
    },
    {
     "data": {
      "image/png": "[encoded data removed]",
      "text/plain": [
       "<Figure size 792x648 with 2 Axes>"
      ]
     },
     "metadata": {
      "needs_background": "light"
     },
     "output_type": "display_data"
    }
   ],
   "source": [
    "f, ax = plt.subplots(figsize = (11, 9))\n",
    "\n",
    "mask = np.triu(np.ones_like(corr, dtype = bool))\n",
    "cmap = sns.diverging_palette(230, 20, as_cmap = True)\n",
    "\n",
    "sns.heatmap(corr, mask = mask, cmap = cmap, vmax = 1,center = 0, \n",
    "            square = True, linewidths=.5, cbar_kws={\"shrink\": .5}, annot = True)"
   ]
  },
  {
   "cell_type": "code",
   "execution_count": 41,
   "metadata": {
    "ExecuteTime": {
     "end_time": "2021-07-15T13:12:59.668278Z",
     "start_time": "2021-07-15T13:12:59.634274Z"
    }
   },
   "outputs": [],
   "source": [
    "# train['date_time'].dt.quarter\n",
    "# train['date_time'].dt.hour\n",
    "train['year'] = train['date_time'].dt.year\n",
    "train['quarter'] = train['date_time'].dt.quarter\n",
    "train['day'] = train['date_time'].dt.day\n",
    "train['hour'] = train['date_time'].dt.hour\n",
    "train['weekday'] = train['date_time'].dt.weekday\n",
    "train['month'] = train['date_time'].dt.month\n"
   ]
  },
  {
   "cell_type": "code",
   "execution_count": 140,
   "metadata": {
    "ExecuteTime": {
     "end_time": "2021-07-15T15:47:28.844019Z",
     "start_time": "2021-07-15T15:47:28.527003Z"
    }
   },
   "outputs": [],
   "source": [
    "test['hour'] = test['date_time'].dt.hour\n",
    "test['weekday'] = test['date_time'].dt.weekday\n",
    "test['month'] = test['date_time'].dt.month\n"
   ]
  },
  {
   "cell_type": "code",
   "execution_count": 45,
   "metadata": {
    "ExecuteTime": {
     "end_time": "2021-07-15T13:14:07.584264Z",
     "start_time": "2021-07-15T13:14:05.312284Z"
    }
   },
   "outputs": [
    {
     "data": {
      "text/plain": [
       "<matplotlib.axes._subplots.AxesSubplot at 0x1edec2c41d0>"
      ]
     },
     "execution_count": 45,
     "metadata": {},
     "output_type": "execute_result"
    },
    {
     "data": {
      "image/png": "[encoded data removed]",
      "text/plain": [
       "<Figure size 1440x1080 with 2 Axes>"
      ]
     },
     "metadata": {
      "needs_background": "light"
     },
     "output_type": "display_data"
    }
   ],
   "source": [
    "corr2 = train.corr()\n",
    "f, ax = plt.subplots(figsize = (20, 15))\n",
    "\n",
    "mask = np.triu(np.ones_like(corr2, dtype = bool))\n",
    "cmap = sns.diverging_palette(230, 20, as_cmap = True)\n",
    "\n",
    "sns.heatmap(corr2, mask = mask, cmap = cmap, vmax = 1,center = 0, \n",
    "            square = True, linewidths=.5, cbar_kws={\"shrink\": .5}, annot = True)"
   ]
  },
  {
   "cell_type": "code",
   "execution_count": 49,
   "metadata": {
    "ExecuteTime": {
     "end_time": "2021-07-15T13:16:27.907265Z",
     "start_time": "2021-07-15T13:16:27.215284Z"
    }
   },
   "outputs": [
    {
     "data": {
      "text/plain": [
       "<matplotlib.axes._subplots.AxesSubplot at 0x1edec988198>"
      ]
     },
     "execution_count": 49,
     "metadata": {},
     "output_type": "execute_result"
    },
    {
     "data": {
      "image/png": "[encoded data removed]",
      "text/plain": [
       "<Figure size 432x288 with 1 Axes>"
      ]
     },
     "metadata": {
      "needs_background": "light"
     },
     "output_type": "display_data"
    }
   ],
   "source": [
    "sns.barplot(x = 'year', y = 'target_carbon_monoxide', data = train, estimator = np.median)"
   ]
  },
  {
   "cell_type": "code",
   "execution_count": 61,
   "metadata": {
    "ExecuteTime": {
     "end_time": "2021-07-15T13:18:13.215568Z",
     "start_time": "2021-07-15T13:18:13.201575Z"
    }
   },
   "outputs": [
    {
     "data": {
      "text/plain": [
       "2011    2247\n",
       "Name: date_time, dtype: int64"
      ]
     },
     "execution_count": 61,
     "metadata": {},
     "output_type": "execute_result"
    }
   ],
   "source": [
    "test.date_time.dt.year.value_counts()"
   ]
  },
  {
   "cell_type": "code",
   "execution_count": 62,
   "metadata": {
    "ExecuteTime": {
     "end_time": "2021-07-15T13:20:22.685572Z",
     "start_time": "2021-07-15T13:20:22.673570Z"
    }
   },
   "outputs": [],
   "source": [
    "train.drop(['year', 'quarter', 'day', 'date_time'], axis = 1, inplace = True)"
   ]
  },
  {
   "cell_type": "code",
   "execution_count": 141,
   "metadata": {
    "ExecuteTime": {
     "end_time": "2021-07-15T15:49:22.342992Z",
     "start_time": "2021-07-15T15:49:22.274998Z"
    }
   },
   "outputs": [],
   "source": [
    "date = test.date_time\n",
    "test.drop('date_time', axis = 1, inplace = True)"
   ]
  },
  {
   "cell_type": "code",
   "execution_count": 65,
   "metadata": {
    "ExecuteTime": {
     "end_time": "2021-07-15T13:21:18.189571Z",
     "start_time": "2021-07-15T13:21:18.150571Z"
    }
   },
   "outputs": [
    {
     "data": {
      "text/html": [
       "<div>\n",
       "<style scoped>\n",
       "    .dataframe tbody tr th:only-of-type {\n",
       "        vertical-align: middle;\n",
       "    }\n",
       "\n",
       "    .dataframe tbody tr th {\n",
       "        vertical-align: top;\n",
       "    }\n",
       "\n",
       "    .dataframe thead th {\n",
       "        text-align: right;\n",
       "    }\n",
       "</style>\n",
       "<table border=\"1\" class=\"dataframe\">\n",
       "  <thead>\n",
       "    <tr style=\"text-align: right;\">\n",
       "      <th></th>\n",
       "      <th>deg_C</th>\n",
       "      <th>relative_humidity</th>\n",
       "      <th>absolute_humidity</th>\n",
       "      <th>sensor_1</th>\n",
       "      <th>sensor_2</th>\n",
       "      <th>sensor_3</th>\n",
       "      <th>sensor_4</th>\n",
       "      <th>sensor_5</th>\n",
       "      <th>target_carbon_monoxide</th>\n",
       "      <th>target_benzene</th>\n",
       "      <th>target_nitrogen_oxides</th>\n",
       "      <th>hour</th>\n",
       "      <th>weekday</th>\n",
       "      <th>month</th>\n",
       "    </tr>\n",
       "  </thead>\n",
       "  <tbody>\n",
       "    <tr>\n",
       "      <th>0</th>\n",
       "      <td>13.1</td>\n",
       "      <td>46.0</td>\n",
       "      <td>0.7578</td>\n",
       "      <td>1387.2</td>\n",
       "      <td>1087.8</td>\n",
       "      <td>1056.0</td>\n",
       "      <td>1742.8</td>\n",
       "      <td>1293.4</td>\n",
       "      <td>2.5</td>\n",
       "      <td>12.0</td>\n",
       "      <td>167.7</td>\n",
       "      <td>18</td>\n",
       "      <td>2</td>\n",
       "      <td>3</td>\n",
       "    </tr>\n",
       "    <tr>\n",
       "      <th>1</th>\n",
       "      <td>13.2</td>\n",
       "      <td>45.3</td>\n",
       "      <td>0.7255</td>\n",
       "      <td>1279.1</td>\n",
       "      <td>888.2</td>\n",
       "      <td>1197.5</td>\n",
       "      <td>1449.9</td>\n",
       "      <td>1010.9</td>\n",
       "      <td>2.1</td>\n",
       "      <td>9.9</td>\n",
       "      <td>98.9</td>\n",
       "      <td>19</td>\n",
       "      <td>2</td>\n",
       "      <td>3</td>\n",
       "    </tr>\n",
       "    <tr>\n",
       "      <th>2</th>\n",
       "      <td>12.6</td>\n",
       "      <td>56.2</td>\n",
       "      <td>0.7502</td>\n",
       "      <td>1331.9</td>\n",
       "      <td>929.6</td>\n",
       "      <td>1060.2</td>\n",
       "      <td>1586.1</td>\n",
       "      <td>1117.0</td>\n",
       "      <td>2.2</td>\n",
       "      <td>9.2</td>\n",
       "      <td>127.1</td>\n",
       "      <td>20</td>\n",
       "      <td>2</td>\n",
       "      <td>3</td>\n",
       "    </tr>\n",
       "    <tr>\n",
       "      <th>3</th>\n",
       "      <td>11.0</td>\n",
       "      <td>62.4</td>\n",
       "      <td>0.7867</td>\n",
       "      <td>1321.0</td>\n",
       "      <td>929.0</td>\n",
       "      <td>1102.9</td>\n",
       "      <td>1536.5</td>\n",
       "      <td>1263.2</td>\n",
       "      <td>2.2</td>\n",
       "      <td>9.7</td>\n",
       "      <td>177.2</td>\n",
       "      <td>21</td>\n",
       "      <td>2</td>\n",
       "      <td>3</td>\n",
       "    </tr>\n",
       "    <tr>\n",
       "      <th>4</th>\n",
       "      <td>11.9</td>\n",
       "      <td>59.0</td>\n",
       "      <td>0.7888</td>\n",
       "      <td>1272.0</td>\n",
       "      <td>852.7</td>\n",
       "      <td>1180.9</td>\n",
       "      <td>1415.5</td>\n",
       "      <td>1132.2</td>\n",
       "      <td>1.5</td>\n",
       "      <td>6.4</td>\n",
       "      <td>121.8</td>\n",
       "      <td>22</td>\n",
       "      <td>2</td>\n",
       "      <td>3</td>\n",
       "    </tr>\n",
       "  </tbody>\n",
       "</table>\n",
       "</div>"
      ],
      "text/plain": [
       "   deg_C  relative_humidity  absolute_humidity  sensor_1  sensor_2  sensor_3  \\\n",
       "0   13.1               46.0             0.7578    1387.2    1087.8    1056.0   \n",
       "1   13.2               45.3             0.7255    1279.1     888.2    1197.5   \n",
       "2   12.6               56.2             0.7502    1331.9     929.6    1060.2   \n",
       "3   11.0               62.4             0.7867    1321.0     929.0    1102.9   \n",
       "4   11.9               59.0             0.7888    1272.0     852.7    1180.9   \n",
       "\n",
       "   sensor_4  sensor_5  target_carbon_monoxide  target_benzene  \\\n",
       "0    1742.8    1293.4                     2.5            12.0   \n",
       "1    1449.9    1010.9                     2.1             9.9   \n",
       "2    1586.1    1117.0                     2.2             9.2   \n",
       "3    1536.5    1263.2                     2.2             9.7   \n",
       "4    1415.5    1132.2                     1.5             6.4   \n",
       "\n",
       "   target_nitrogen_oxides  hour  weekday  month  \n",
       "0                   167.7    18        2      3  \n",
       "1                    98.9    19        2      3  \n",
       "2                   127.1    20        2      3  \n",
       "3                   177.2    21        2      3  \n",
       "4                   121.8    22        2      3  "
      ]
     },
     "execution_count": 65,
     "metadata": {},
     "output_type": "execute_result"
    }
   ],
   "source": [
    "train.head()"
   ]
  },
  {
   "cell_type": "code",
   "execution_count": 66,
   "metadata": {
    "ExecuteTime": {
     "end_time": "2021-07-15T13:21:53.453568Z",
     "start_time": "2021-07-15T13:21:51.519571Z"
    }
   },
   "outputs": [
    {
     "data": {
      "text/plain": [
       "<matplotlib.axes._subplots.AxesSubplot at 0x1edeca3c160>"
      ]
     },
     "execution_count": 66,
     "metadata": {},
     "output_type": "execute_result"
    },
    {
     "data": {
      "image/png": "[encoded data removed]",
      "text/plain": [
       "<Figure size 1440x1080 with 2 Axes>"
      ]
     },
     "metadata": {
      "needs_background": "light"
     },
     "output_type": "display_data"
    }
   ],
   "source": [
    "corr3 = train.corr()\n",
    "f, ax = plt.subplots(figsize = (20, 15))\n",
    "\n",
    "mask = np.triu(np.ones_like(corr3, dtype = bool))\n",
    "cmap = sns.diverging_palette(230, 20, as_cmap = True)\n",
    "\n",
    "sns.heatmap(corr3, mask = mask, cmap = cmap, vmax = 1,center = 0, \n",
    "            square = True, linewidths=.5, cbar_kws={\"shrink\": .5}, annot = True)"
   ]
  },
  {
   "cell_type": "markdown",
   "metadata": {
    "heading_collapsed": true
   },
   "source": [
    "## Basic Model"
   ]
  },
  {
   "cell_type": "markdown",
   "metadata": {
    "hidden": true
   },
   "source": [
    "### 1. Predicting CO"
   ]
  },
  {
   "cell_type": "code",
   "execution_count": 145,
   "metadata": {
    "ExecuteTime": {
     "end_time": "2021-07-15T15:50:46.163002Z",
     "start_time": "2021-07-15T15:50:46.156029Z"
    },
    "hidden": true
   },
   "outputs": [],
   "source": [
    "cols = ['deg_C', 'relative_humidity', 'absolute_humidity',\n",
    "        'sensor_1', 'sensor_2', 'sensor_3', 'sensor_4', 'sensor_5', 'hour', 'weekday', 'month']"
   ]
  },
  {
   "cell_type": "code",
   "execution_count": 146,
   "metadata": {
    "ExecuteTime": {
     "end_time": "2021-07-15T15:50:47.074996Z",
     "start_time": "2021-07-15T15:50:47.062004Z"
    },
    "hidden": true
   },
   "outputs": [],
   "source": [
    "X_CO = train[cols]\n",
    "y_CO = train.target_carbon_monoxide"
   ]
  },
  {
   "cell_type": "code",
   "execution_count": 147,
   "metadata": {
    "ExecuteTime": {
     "end_time": "2021-07-15T15:50:48.824998Z",
     "start_time": "2021-07-15T15:50:48.816004Z"
    },
    "hidden": true
   },
   "outputs": [
    {
     "data": {
      "text/plain": [
       "(Index(['deg_C', 'relative_humidity', 'absolute_humidity', 'sensor_1',\n",
       "        'sensor_2', 'sensor_3', 'sensor_4', 'sensor_5', 'hour', 'weekday',\n",
       "        'month'],\n",
       "       dtype='object'),\n",
       " Index(['deg_C', 'relative_humidity', 'absolute_humidity', 'sensor_1',\n",
       "        'sensor_2', 'sensor_3', 'sensor_4', 'sensor_5', 'hour', 'weekday',\n",
       "        'month'],\n",
       "       dtype='object'))"
      ]
     },
     "execution_count": 147,
     "metadata": {},
     "output_type": "execute_result"
    }
   ],
   "source": [
    "X_CO.columns, test.columns"
   ]
  },
  {
   "cell_type": "code",
   "execution_count": 148,
   "metadata": {
    "ExecuteTime": {
     "end_time": "2021-07-15T15:50:53.687995Z",
     "start_time": "2021-07-15T15:50:53.677003Z"
    },
    "hidden": true
   },
   "outputs": [
    {
     "data": {
      "text/plain": [
       "0    2.5\n",
       "1    2.1\n",
       "2    2.2\n",
       "3    2.2\n",
       "4    1.5\n",
       "Name: target_carbon_monoxide, dtype: float64"
      ]
     },
     "execution_count": 148,
     "metadata": {},
     "output_type": "execute_result"
    }
   ],
   "source": [
    "y_CO.head()"
   ]
  },
  {
   "cell_type": "code",
   "execution_count": 149,
   "metadata": {
    "ExecuteTime": {
     "end_time": "2021-07-15T15:50:54.399000Z",
     "start_time": "2021-07-15T15:50:54.383004Z"
    },
    "hidden": true
   },
   "outputs": [],
   "source": [
    "X_CO_train, X_CO_test, y_CO_train, y_CO_test = train_test_split(X_CO, y_CO, test_size=0.2, random_state = 42)"
   ]
  },
  {
   "cell_type": "code",
   "execution_count": 150,
   "metadata": {
    "ExecuteTime": {
     "end_time": "2021-07-15T15:50:55.116995Z",
     "start_time": "2021-07-15T15:50:55.105002Z"
    },
    "hidden": true
   },
   "outputs": [
    {
     "data": {
      "text/plain": [
       "1755    1.2\n",
       "3207    2.7\n",
       "443     0.7\n",
       "2807    2.9\n",
       "3240    2.9\n",
       "Name: target_carbon_monoxide, dtype: float64"
      ]
     },
     "execution_count": 150,
     "metadata": {},
     "output_type": "execute_result"
    }
   ],
   "source": [
    "y_CO_train.head()"
   ]
  },
  {
   "cell_type": "code",
   "execution_count": 151,
   "metadata": {
    "ExecuteTime": {
     "end_time": "2021-07-15T15:51:02.388027Z",
     "start_time": "2021-07-15T15:50:56.062992Z"
    },
    "hidden": true
   },
   "outputs": [
    {
     "name": "stdout",
     "output_type": "stream",
     "text": [
      "LinearRegression(copy_X=True, fit_intercept=True, n_jobs=None, normalize=False) 0.8711413686719214\n",
      "DecisionTreeRegressor(criterion='mse', max_depth=None, max_features=None,\n",
      "                      max_leaf_nodes=None, min_impurity_decrease=0.0,\n",
      "                      min_impurity_split=None, min_samples_leaf=1,\n",
      "                      min_samples_split=2, min_weight_fraction_leaf=0.0,\n",
      "                      presort=False, random_state=None, splitter='best') 0.8530697880173317\n",
      "RandomForestRegressor(bootstrap=True, criterion='mse', max_depth=None,\n",
      "                      max_features='auto', max_leaf_nodes=None,\n",
      "                      min_impurity_decrease=0.0, min_impurity_split=None,\n",
      "                      min_samples_leaf=1, min_samples_split=2,\n",
      "                      min_weight_fraction_leaf=0.0, n_estimators=100,\n",
      "                      n_jobs=None, oob_score=False, random_state=None,\n",
      "                      verbose=0, warm_start=False) 0.9328229112872539\n"
     ]
    }
   ],
   "source": [
    "models = [LinearRegression(), DecisionTreeRegressor(), RandomForestRegressor(n_estimators=100)]\n",
    "for m in models:\n",
    "    mod = m.fit(X_CO_train, y_CO_train)\n",
    "    print(m, mod.score(X_CO_test, y_CO_test))"
   ]
  },
  {
   "cell_type": "code",
   "execution_count": 152,
   "metadata": {
    "ExecuteTime": {
     "end_time": "2021-07-15T15:51:22.065323Z",
     "start_time": "2021-07-15T15:51:18.702281Z"
    },
    "hidden": true
   },
   "outputs": [],
   "source": [
    "rf_CO = RandomForestRegressor(n_estimators=100)\n",
    "model_CO = rf_B.fit(X_CO_train, y_CO_train)\n",
    "CO_pred = model_CO.predict(test)"
   ]
  },
  {
   "cell_type": "markdown",
   "metadata": {
    "hidden": true
   },
   "source": [
    "### 2. Predicting Benzene"
   ]
  },
  {
   "cell_type": "code",
   "execution_count": 153,
   "metadata": {
    "ExecuteTime": {
     "end_time": "2021-07-15T15:51:26.255281Z",
     "start_time": "2021-07-15T15:51:26.245281Z"
    },
    "hidden": true
   },
   "outputs": [],
   "source": [
    "X_B = train[cols]\n",
    "y_B = train.target_benzene"
   ]
  },
  {
   "cell_type": "code",
   "execution_count": 154,
   "metadata": {
    "ExecuteTime": {
     "end_time": "2021-07-15T15:51:30.941280Z",
     "start_time": "2021-07-15T15:51:30.926291Z"
    },
    "hidden": true
   },
   "outputs": [],
   "source": [
    "X_B_train, X_B_test, y_B_train, y_B_test = train_test_split(X_B, y_B, test_size=0.2, random_state = 42)"
   ]
  },
  {
   "cell_type": "code",
   "execution_count": 155,
   "metadata": {
    "ExecuteTime": {
     "end_time": "2021-07-15T15:51:35.855284Z",
     "start_time": "2021-07-15T15:51:32.661282Z"
    },
    "hidden": true
   },
   "outputs": [
    {
     "name": "stdout",
     "output_type": "stream",
     "text": [
      "LinearRegression(copy_X=True, fit_intercept=True, n_jobs=None, normalize=False) 0.9590812900899339\n",
      "DecisionTreeRegressor(criterion='mse', max_depth=None, max_features=None,\n",
      "                      max_leaf_nodes=None, min_impurity_decrease=0.0,\n",
      "                      min_impurity_split=None, min_samples_leaf=1,\n",
      "                      min_samples_split=2, min_weight_fraction_leaf=0.0,\n",
      "                      presort=False, random_state=None, splitter='best') 0.9438154697794058\n",
      "RandomForestRegressor(bootstrap=True, criterion='mse', max_depth=None,\n",
      "                      max_features='auto', max_leaf_nodes=None,\n",
      "                      min_impurity_decrease=0.0, min_impurity_split=None,\n",
      "                      min_samples_leaf=1, min_samples_split=2,\n",
      "                      min_weight_fraction_leaf=0.0, n_estimators=50,\n",
      "                      n_jobs=None, oob_score=False, random_state=None,\n",
      "                      verbose=0, warm_start=False) 0.9742600176290606\n"
     ]
    }
   ],
   "source": [
    "models = [LinearRegression(), DecisionTreeRegressor(), RandomForestRegressor(n_estimators=50)]\n",
    "for m in models:\n",
    "    mod = m.fit(X_B_train, y_B_train)\n",
    "    print(m, mod.score(X_B_test, y_B_test))"
   ]
  },
  {
   "cell_type": "code",
   "execution_count": 156,
   "metadata": {
    "ExecuteTime": {
     "end_time": "2021-07-15T15:51:46.368292Z",
     "start_time": "2021-07-15T15:51:43.220279Z"
    },
    "hidden": true
   },
   "outputs": [],
   "source": [
    "rf_B = RandomForestRegressor(n_estimators=50)\n",
    "model_B = rf_B.fit(X_B_train, y_B_train)\n",
    "B_pred = model_B.predict(test)"
   ]
  },
  {
   "cell_type": "markdown",
   "metadata": {
    "heading_collapsed": true,
    "hidden": true
   },
   "source": [
    "#### Using B_pred for predicting CO"
   ]
  },
  {
   "cell_type": "code",
   "execution_count": 125,
   "metadata": {
    "ExecuteTime": {
     "end_time": "2021-07-15T15:02:31.605670Z",
     "start_time": "2021-07-15T15:02:31.587665Z"
    },
    "hidden": true
   },
   "outputs": [],
   "source": [
    "cols2 = ['deg_C', 'relative_humidity', 'absolute_humidity', 'month',\n",
    "        'sensor_1', 'sensor_2', 'sensor_3', 'sensor_4', 'sensor_5', 'hour', 'weekday', 'target_benzene']\n",
    "X_CO_2 = train[cols2]\n",
    "y_CO = train.target_carbon_monoxide\n",
    "X_CO_2_train, X_CO_test, y_CO_train, y_CO_test = train_test_split(X_CO_2, y_CO, test_size=0.2, random_state = 42)"
   ]
  },
  {
   "cell_type": "code",
   "execution_count": 126,
   "metadata": {
    "ExecuteTime": {
     "end_time": "2021-07-15T15:02:32.866668Z",
     "start_time": "2021-07-15T15:02:32.827673Z"
    },
    "hidden": true
   },
   "outputs": [
    {
     "name": "stderr",
     "output_type": "stream",
     "text": [
      "C:\\Users\\sadhna kunj\\Miniconda3\\envs\\myenv\\lib\\site-packages\\pandas\\core\\indexing.py:494: SettingWithCopyWarning: \n",
      "A value is trying to be set on a copy of a slice from a DataFrame.\n",
      "Try using .loc[row_indexer,col_indexer] = value instead\n",
      "\n",
      "See the caveats in the documentation: http://pandas.pydata.org/pandas-docs/stable/user_guide/indexing.html#returning-a-view-versus-a-copy\n",
      "  self.obj[item] = s\n"
     ]
    },
    {
     "data": {
      "text/html": [
       "<div>\n",
       "<style scoped>\n",
       "    .dataframe tbody tr th:only-of-type {\n",
       "        vertical-align: middle;\n",
       "    }\n",
       "\n",
       "    .dataframe tbody tr th {\n",
       "        vertical-align: top;\n",
       "    }\n",
       "\n",
       "    .dataframe thead th {\n",
       "        text-align: right;\n",
       "    }\n",
       "</style>\n",
       "<table border=\"1\" class=\"dataframe\">\n",
       "  <thead>\n",
       "    <tr style=\"text-align: right;\">\n",
       "      <th></th>\n",
       "      <th>deg_C</th>\n",
       "      <th>relative_humidity</th>\n",
       "      <th>absolute_humidity</th>\n",
       "      <th>month</th>\n",
       "      <th>sensor_1</th>\n",
       "      <th>sensor_2</th>\n",
       "      <th>sensor_3</th>\n",
       "      <th>sensor_4</th>\n",
       "      <th>sensor_5</th>\n",
       "      <th>hour</th>\n",
       "      <th>weekday</th>\n",
       "      <th>target_benzene</th>\n",
       "    </tr>\n",
       "  </thead>\n",
       "  <tbody>\n",
       "    <tr>\n",
       "      <th>2755</th>\n",
       "      <td>35.9</td>\n",
       "      <td>16.1</td>\n",
       "      <td>0.9177</td>\n",
       "      <td>7</td>\n",
       "      <td>893.8</td>\n",
       "      <td>925.4</td>\n",
       "      <td>908.2</td>\n",
       "      <td>1464.7</td>\n",
       "      <td>614.0</td>\n",
       "      <td>13</td>\n",
       "      <td>5</td>\n",
       "      <td>8.23</td>\n",
       "    </tr>\n",
       "    <tr>\n",
       "      <th>3437</th>\n",
       "      <td>28.3</td>\n",
       "      <td>43.3</td>\n",
       "      <td>1.6304</td>\n",
       "      <td>7</td>\n",
       "      <td>1106.8</td>\n",
       "      <td>1127.9</td>\n",
       "      <td>667.7</td>\n",
       "      <td>1870.5</td>\n",
       "      <td>1150.4</td>\n",
       "      <td>23</td>\n",
       "      <td>5</td>\n",
       "      <td>13.94</td>\n",
       "    </tr>\n",
       "    <tr>\n",
       "      <th>6472</th>\n",
       "      <td>13.2</td>\n",
       "      <td>66.0</td>\n",
       "      <td>0.9564</td>\n",
       "      <td>12</td>\n",
       "      <td>853.4</td>\n",
       "      <td>661.0</td>\n",
       "      <td>1051.0</td>\n",
       "      <td>1036.9</td>\n",
       "      <td>764.4</td>\n",
       "      <td>10</td>\n",
       "      <td>6</td>\n",
       "      <td>3.02</td>\n",
       "    </tr>\n",
       "    <tr>\n",
       "      <th>3126</th>\n",
       "      <td>26.0</td>\n",
       "      <td>28.8</td>\n",
       "      <td>1.1396</td>\n",
       "      <td>7</td>\n",
       "      <td>1005.3</td>\n",
       "      <td>814.0</td>\n",
       "      <td>820.8</td>\n",
       "      <td>1534.9</td>\n",
       "      <td>1038.4</td>\n",
       "      <td>0</td>\n",
       "      <td>0</td>\n",
       "      <td>6.27</td>\n",
       "    </tr>\n",
       "    <tr>\n",
       "      <th>5858</th>\n",
       "      <td>9.1</td>\n",
       "      <td>80.4</td>\n",
       "      <td>0.8678</td>\n",
       "      <td>11</td>\n",
       "      <td>1311.2</td>\n",
       "      <td>1229.8</td>\n",
       "      <td>651.9</td>\n",
       "      <td>1417.5</td>\n",
       "      <td>1109.5</td>\n",
       "      <td>20</td>\n",
       "      <td>1</td>\n",
       "      <td>16.82</td>\n",
       "    </tr>\n",
       "  </tbody>\n",
       "</table>\n",
       "</div>"
      ],
      "text/plain": [
       "      deg_C  relative_humidity  absolute_humidity  month  sensor_1  sensor_2  \\\n",
       "2755   35.9               16.1             0.9177      7     893.8     925.4   \n",
       "3437   28.3               43.3             1.6304      7    1106.8    1127.9   \n",
       "6472   13.2               66.0             0.9564     12     853.4     661.0   \n",
       "3126   26.0               28.8             1.1396      7    1005.3     814.0   \n",
       "5858    9.1               80.4             0.8678     11    1311.2    1229.8   \n",
       "\n",
       "      sensor_3  sensor_4  sensor_5  hour  weekday  target_benzene  \n",
       "2755     908.2    1464.7     614.0    13        5            8.23  \n",
       "3437     667.7    1870.5    1150.4    23        5           13.94  \n",
       "6472    1051.0    1036.9     764.4    10        6            3.02  \n",
       "3126     820.8    1534.9    1038.4     0        0            6.27  \n",
       "5858     651.9    1417.5    1109.5    20        1           16.82  "
      ]
     },
     "execution_count": 126,
     "metadata": {},
     "output_type": "execute_result"
    }
   ],
   "source": [
    "X_CO_test.loc[:, 'target_benzene'] = B_pred.round(2)\n",
    "X_CO_test.head()"
   ]
  },
  {
   "cell_type": "code",
   "execution_count": 127,
   "metadata": {
    "ExecuteTime": {
     "end_time": "2021-07-15T15:02:41.523665Z",
     "start_time": "2021-07-15T15:02:35.073668Z"
    },
    "hidden": true
   },
   "outputs": [
    {
     "name": "stdout",
     "output_type": "stream",
     "text": [
      "LinearRegression(copy_X=True, fit_intercept=True, n_jobs=None, normalize=False) 0.8858047502493731\n",
      "DecisionTreeRegressor(criterion='mse', max_depth=None, max_features=None,\n",
      "                      max_leaf_nodes=None, min_impurity_decrease=0.0,\n",
      "                      min_impurity_split=None, min_samples_leaf=1,\n",
      "                      min_samples_split=2, min_weight_fraction_leaf=0.0,\n",
      "                      presort=False, random_state=None, splitter='best') 0.8636411147749362\n",
      "RandomForestRegressor(bootstrap=True, criterion='mse', max_depth=None,\n",
      "                      max_features='auto', max_leaf_nodes=None,\n",
      "                      min_impurity_decrease=0.0, min_impurity_split=None,\n",
      "                      min_samples_leaf=1, min_samples_split=2,\n",
      "                      min_weight_fraction_leaf=0.0, n_estimators=100,\n",
      "                      n_jobs=None, oob_score=False, random_state=None,\n",
      "                      verbose=0, warm_start=False) 0.9294253657805083\n"
     ]
    }
   ],
   "source": [
    "models = [LinearRegression(), DecisionTreeRegressor(), RandomForestRegressor(n_estimators=100)]\n",
    "for m in models:\n",
    "    mod = m.fit(X_CO_2_train, y_CO_train)\n",
    "    print(m, mod.score(X_CO_test, y_CO_test))"
   ]
  },
  {
   "cell_type": "code",
   "execution_count": 103,
   "metadata": {
    "ExecuteTime": {
     "end_time": "2021-07-15T14:51:05.213142Z",
     "start_time": "2021-07-15T14:51:05.203138Z"
    },
    "hidden": true
   },
   "outputs": [
    {
     "data": {
      "text/plain": [
       "(1423,)"
      ]
     },
     "execution_count": 103,
     "metadata": {},
     "output_type": "execute_result"
    }
   ],
   "source": [
    "B_pred.shape"
   ]
  },
  {
   "cell_type": "code",
   "execution_count": 104,
   "metadata": {
    "ExecuteTime": {
     "end_time": "2021-07-15T14:55:43.314172Z",
     "start_time": "2021-07-15T14:55:43.304144Z"
    },
    "hidden": true
   },
   "outputs": [
    {
     "data": {
      "text/plain": [
       "((7111, 11), (2247, 9))"
      ]
     },
     "execution_count": 104,
     "metadata": {},
     "output_type": "execute_result"
    }
   ],
   "source": []
  },
  {
   "cell_type": "markdown",
   "metadata": {
    "hidden": true
   },
   "source": [
    "### 3. Predicting NO"
   ]
  },
  {
   "cell_type": "code",
   "execution_count": 157,
   "metadata": {
    "ExecuteTime": {
     "end_time": "2021-07-15T15:51:53.694292Z",
     "start_time": "2021-07-15T15:51:53.684280Z"
    },
    "hidden": true
   },
   "outputs": [],
   "source": [
    "X_NO = train[cols]\n",
    "y_NO = train.target_nitrogen_oxides"
   ]
  },
  {
   "cell_type": "code",
   "execution_count": 158,
   "metadata": {
    "ExecuteTime": {
     "end_time": "2021-07-15T15:51:55.139302Z",
     "start_time": "2021-07-15T15:51:55.122281Z"
    },
    "hidden": true
   },
   "outputs": [],
   "source": [
    "X_NO_train, X_NO_test, y_NO_train, y_NO_test = train_test_split(X_NO, y_NO, test_size=0.2, random_state = 42)"
   ]
  },
  {
   "cell_type": "code",
   "execution_count": 159,
   "metadata": {
    "ExecuteTime": {
     "end_time": "2021-07-15T15:52:02.684281Z",
     "start_time": "2021-07-15T15:51:57.744278Z"
    },
    "hidden": true
   },
   "outputs": [
    {
     "name": "stdout",
     "output_type": "stream",
     "text": [
      "LinearRegression(copy_X=True, fit_intercept=True, n_jobs=None, normalize=False) 0.7615580969060363\n",
      "DecisionTreeRegressor(criterion='mse', max_depth=None, max_features=None,\n",
      "                      max_leaf_nodes=None, min_impurity_decrease=0.0,\n",
      "                      min_impurity_split=None, min_samples_leaf=1,\n",
      "                      min_samples_split=2, min_weight_fraction_leaf=0.0,\n",
      "                      presort=False, random_state=None, splitter='best') 0.8265293826915477\n",
      "RandomForestRegressor(bootstrap=True, criterion='mse', max_depth=None,\n",
      "                      max_features='auto', max_leaf_nodes=None,\n",
      "                      min_impurity_decrease=0.0, min_impurity_split=None,\n",
      "                      min_samples_leaf=1, min_samples_split=2,\n",
      "                      min_weight_fraction_leaf=0.0, n_estimators=50,\n",
      "                      n_jobs=None, oob_score=False, random_state=None,\n",
      "                      verbose=0, warm_start=False) 0.9128445730837982\n"
     ]
    }
   ],
   "source": [
    "models = [LinearRegression(), DecisionTreeRegressor(), RandomForestRegressor(n_estimators=50)]\n",
    "for m in models:\n",
    "    mod = m.fit(X_NO_train, y_NO_train)\n",
    "    print(m, mod.score(X_NO_test, y_NO_test))"
   ]
  },
  {
   "cell_type": "code",
   "execution_count": 160,
   "metadata": {
    "ExecuteTime": {
     "end_time": "2021-07-15T15:52:11.507396Z",
     "start_time": "2021-07-15T15:52:08.198295Z"
    },
    "hidden": true
   },
   "outputs": [],
   "source": [
    "rf_NO = RandomForestRegressor(n_estimators=50)\n",
    "model_NO = rf_NO.fit(X_NO_train, y_NO_train)\n",
    "NO_pred = model_NO.predict(test)"
   ]
  },
  {
   "cell_type": "code",
   "execution_count": 162,
   "metadata": {
    "ExecuteTime": {
     "end_time": "2021-07-15T15:53:17.683316Z",
     "start_time": "2021-07-15T15:53:17.624283Z"
    },
    "hidden": true
   },
   "outputs": [],
   "source": [
    "sub.iloc[:, 1] = CO_pred\n",
    "sub.iloc[:, 2] = B_pred\n",
    "sub.iloc[:, 3] = NO_pred"
   ]
  },
  {
   "cell_type": "code",
   "execution_count": 163,
   "metadata": {
    "ExecuteTime": {
     "end_time": "2021-07-15T15:53:22.305389Z",
     "start_time": "2021-07-15T15:53:22.282389Z"
    },
    "hidden": true
   },
   "outputs": [
    {
     "data": {
      "text/html": [
       "<div>\n",
       "<style scoped>\n",
       "    .dataframe tbody tr th:only-of-type {\n",
       "        vertical-align: middle;\n",
       "    }\n",
       "\n",
       "    .dataframe tbody tr th {\n",
       "        vertical-align: top;\n",
       "    }\n",
       "\n",
       "    .dataframe thead th {\n",
       "        text-align: right;\n",
       "    }\n",
       "</style>\n",
       "<table border=\"1\" class=\"dataframe\">\n",
       "  <thead>\n",
       "    <tr style=\"text-align: right;\">\n",
       "      <th></th>\n",
       "      <th>date_time</th>\n",
       "      <th>target_carbon_monoxide</th>\n",
       "      <th>target_benzene</th>\n",
       "      <th>target_nitrogen_oxides</th>\n",
       "    </tr>\n",
       "  </thead>\n",
       "  <tbody>\n",
       "    <tr>\n",
       "      <th>0</th>\n",
       "      <td>2011-01-01 00:00:00</td>\n",
       "      <td>1.336</td>\n",
       "      <td>4.456</td>\n",
       "      <td>157.084</td>\n",
       "    </tr>\n",
       "    <tr>\n",
       "      <th>1</th>\n",
       "      <td>2011-01-01 01:00:00</td>\n",
       "      <td>1.862</td>\n",
       "      <td>7.148</td>\n",
       "      <td>147.666</td>\n",
       "    </tr>\n",
       "    <tr>\n",
       "      <th>2</th>\n",
       "      <td>2011-01-01 02:00:00</td>\n",
       "      <td>1.608</td>\n",
       "      <td>7.904</td>\n",
       "      <td>132.830</td>\n",
       "    </tr>\n",
       "    <tr>\n",
       "      <th>3</th>\n",
       "      <td>2011-01-01 03:00:00</td>\n",
       "      <td>2.032</td>\n",
       "      <td>8.884</td>\n",
       "      <td>142.144</td>\n",
       "    </tr>\n",
       "    <tr>\n",
       "      <th>4</th>\n",
       "      <td>2011-01-01 04:00:00</td>\n",
       "      <td>1.528</td>\n",
       "      <td>7.012</td>\n",
       "      <td>101.406</td>\n",
       "    </tr>\n",
       "  </tbody>\n",
       "</table>\n",
       "</div>"
      ],
      "text/plain": [
       "             date_time  target_carbon_monoxide  target_benzene  \\\n",
       "0  2011-01-01 00:00:00                   1.336           4.456   \n",
       "1  2011-01-01 01:00:00                   1.862           7.148   \n",
       "2  2011-01-01 02:00:00                   1.608           7.904   \n",
       "3  2011-01-01 03:00:00                   2.032           8.884   \n",
       "4  2011-01-01 04:00:00                   1.528           7.012   \n",
       "\n",
       "   target_nitrogen_oxides  \n",
       "0                 157.084  \n",
       "1                 147.666  \n",
       "2                 132.830  \n",
       "3                 142.144  \n",
       "4                 101.406  "
      ]
     },
     "execution_count": 163,
     "metadata": {},
     "output_type": "execute_result"
    }
   ],
   "source": [
    "sub.head()"
   ]
  },
  {
   "cell_type": "code",
   "execution_count": 171,
   "metadata": {
    "ExecuteTime": {
     "end_time": "2021-07-15T16:27:13.956033Z",
     "start_time": "2021-07-15T16:27:13.611031Z"
    },
    "hidden": true
   },
   "outputs": [],
   "source": [
    "sub['date_time'] = pd.to_datetime(sub.date_time)"
   ]
  },
  {
   "cell_type": "code",
   "execution_count": 172,
   "metadata": {
    "ExecuteTime": {
     "end_time": "2021-07-15T16:27:15.150047Z",
     "start_time": "2021-07-15T16:27:14.909941Z"
    },
    "hidden": true
   },
   "outputs": [],
   "source": [
    "sub.to_csv('E:/DATA SETS/tabular-playground/sub1.csv', index = False) "
   ]
  },
  {
   "cell_type": "code",
   "execution_count": null,
   "metadata": {
    "hidden": true
   },
   "outputs": [],
   "source": []
  },
  {
   "cell_type": "code",
   "execution_count": null,
   "metadata": {
    "hidden": true
   },
   "outputs": [],
   "source": []
  },
  {
   "cell_type": "markdown",
   "metadata": {
    "hidden": true
   },
   "source": [
    "### XGBoost"
   ]
  },
  {
   "cell_type": "code",
   "execution_count": 90,
   "metadata": {
    "ExecuteTime": {
     "end_time": "2021-07-15T13:41:33.296568Z",
     "start_time": "2021-07-15T13:41:33.275567Z"
    },
    "hidden": true
   },
   "outputs": [],
   "source": [
    "dtrain = xgb.DMatrix(X_CO_train, label=y_CO_train)\n",
    "dtest = xgb.DMatrix(X_CO_test, label=y_CO_test)"
   ]
  },
  {
   "cell_type": "code",
   "execution_count": 91,
   "metadata": {
    "ExecuteTime": {
     "end_time": "2021-07-15T13:41:46.627568Z",
     "start_time": "2021-07-15T13:41:46.622568Z"
    },
    "hidden": true
   },
   "outputs": [],
   "source": [
    "from sklearn.metrics import mean_absolute_error\n",
    "from sklearn.metrics import mean_squared_error"
   ]
  },
  {
   "cell_type": "code",
   "execution_count": 193,
   "metadata": {
    "ExecuteTime": {
     "end_time": "2021-07-15T16:34:24.632545Z",
     "start_time": "2021-07-15T16:34:24.624314Z"
    },
    "hidden": true
   },
   "outputs": [],
   "source": [
    "params = {\n",
    "    # Parameters that we are going to tune.\n",
    "    'max_depth':5,\n",
    "    'min_child_weight': 7,\n",
    "    'eta':.2,\n",
    "    'subsample': 1,\n",
    "    'colsample_bytree': 0.7,\n",
    "    # Other parameters\n",
    "    'objective':'reg:squarederror',\n",
    "}\n"
   ]
  },
  {
   "cell_type": "code",
   "execution_count": 194,
   "metadata": {
    "ExecuteTime": {
     "end_time": "2021-07-15T16:34:26.906315Z",
     "start_time": "2021-07-15T16:34:25.100372Z"
    },
    "hidden": true
   },
   "outputs": [
    {
     "name": "stdout",
     "output_type": "stream",
     "text": [
      "[0]\tTest-rmse:1.84051\n",
      "Will train until Test-rmse hasn't improved in 10 rounds.\n",
      "[1]\tTest-rmse:1.51988\n",
      "[2]\tTest-rmse:1.26899\n",
      "[3]\tTest-rmse:1.06371\n",
      "[4]\tTest-rmse:0.90681\n",
      "[5]\tTest-rmse:0.78978\n",
      "[6]\tTest-rmse:0.69226\n",
      "[7]\tTest-rmse:0.61854\n",
      "[8]\tTest-rmse:0.56259\n",
      "[9]\tTest-rmse:0.52231\n",
      "[10]\tTest-rmse:0.49089\n",
      "[11]\tTest-rmse:0.46812\n",
      "[12]\tTest-rmse:0.45356\n",
      "[13]\tTest-rmse:0.44031\n",
      "[14]\tTest-rmse:0.43223\n",
      "[15]\tTest-rmse:0.42140\n",
      "[16]\tTest-rmse:0.41692\n",
      "[17]\tTest-rmse:0.40838\n",
      "[18]\tTest-rmse:0.40534\n",
      "[19]\tTest-rmse:0.39847\n",
      "[20]\tTest-rmse:0.39609\n",
      "[21]\tTest-rmse:0.39097\n",
      "[22]\tTest-rmse:0.38954\n",
      "[23]\tTest-rmse:0.38677\n",
      "[24]\tTest-rmse:0.38490\n",
      "[25]\tTest-rmse:0.38344\n",
      "[26]\tTest-rmse:0.38299\n",
      "[27]\tTest-rmse:0.38225\n",
      "[28]\tTest-rmse:0.38181\n",
      "[29]\tTest-rmse:0.38091\n",
      "[30]\tTest-rmse:0.37902\n",
      "[31]\tTest-rmse:0.37892\n",
      "[32]\tTest-rmse:0.37865\n",
      "[33]\tTest-rmse:0.37643\n",
      "[34]\tTest-rmse:0.37691\n",
      "[35]\tTest-rmse:0.37701\n",
      "[36]\tTest-rmse:0.37600\n",
      "[37]\tTest-rmse:0.37439\n",
      "[38]\tTest-rmse:0.37393\n",
      "[39]\tTest-rmse:0.37351\n",
      "[40]\tTest-rmse:0.37422\n",
      "[41]\tTest-rmse:0.37291\n",
      "[42]\tTest-rmse:0.37277\n",
      "[43]\tTest-rmse:0.37282\n",
      "[44]\tTest-rmse:0.37199\n",
      "[45]\tTest-rmse:0.37207\n",
      "[46]\tTest-rmse:0.37159\n",
      "[47]\tTest-rmse:0.37067\n",
      "[48]\tTest-rmse:0.37022\n",
      "[49]\tTest-rmse:0.36976\n",
      "[50]\tTest-rmse:0.36952\n",
      "[51]\tTest-rmse:0.36919\n",
      "[52]\tTest-rmse:0.36871\n",
      "[53]\tTest-rmse:0.36821\n",
      "[54]\tTest-rmse:0.36820\n",
      "[55]\tTest-rmse:0.36823\n",
      "[56]\tTest-rmse:0.36671\n",
      "[57]\tTest-rmse:0.36635\n",
      "[58]\tTest-rmse:0.36609\n",
      "[59]\tTest-rmse:0.36658\n",
      "[60]\tTest-rmse:0.36635\n",
      "[61]\tTest-rmse:0.36631\n",
      "[62]\tTest-rmse:0.36633\n",
      "[63]\tTest-rmse:0.36590\n",
      "[64]\tTest-rmse:0.36554\n",
      "[65]\tTest-rmse:0.36554\n",
      "[66]\tTest-rmse:0.36618\n",
      "[67]\tTest-rmse:0.36614\n",
      "[68]\tTest-rmse:0.36584\n",
      "[69]\tTest-rmse:0.36548\n",
      "[70]\tTest-rmse:0.36457\n",
      "[71]\tTest-rmse:0.36380\n",
      "[72]\tTest-rmse:0.36373\n",
      "[73]\tTest-rmse:0.36377\n",
      "[74]\tTest-rmse:0.36357\n",
      "[75]\tTest-rmse:0.36295\n",
      "[76]\tTest-rmse:0.36299\n",
      "[77]\tTest-rmse:0.36246\n",
      "[78]\tTest-rmse:0.36240\n",
      "[79]\tTest-rmse:0.36226\n",
      "[80]\tTest-rmse:0.36247\n",
      "[81]\tTest-rmse:0.36227\n",
      "[82]\tTest-rmse:0.36206\n",
      "[83]\tTest-rmse:0.36195\n",
      "[84]\tTest-rmse:0.36157\n",
      "[85]\tTest-rmse:0.36193\n",
      "[86]\tTest-rmse:0.36208\n",
      "[87]\tTest-rmse:0.36184\n",
      "[88]\tTest-rmse:0.36116\n",
      "[89]\tTest-rmse:0.36109\n",
      "[90]\tTest-rmse:0.36113\n",
      "[91]\tTest-rmse:0.36141\n",
      "[92]\tTest-rmse:0.36151\n",
      "[93]\tTest-rmse:0.36134\n",
      "[94]\tTest-rmse:0.36117\n",
      "[95]\tTest-rmse:0.36149\n",
      "[96]\tTest-rmse:0.36138\n",
      "[97]\tTest-rmse:0.36135\n",
      "[98]\tTest-rmse:0.36110\n",
      "[99]\tTest-rmse:0.36133\n",
      "Stopping. Best iteration:\n",
      "[89]\tTest-rmse:0.36109\n",
      "\n"
     ]
    }
   ],
   "source": [
    "params['eval_metric'] = \"rmse\"\n",
    "num_boost_round = 999\n",
    "\n",
    "model = xgb.train(\n",
    "    params,\n",
    "    dtrain,\n",
    "    num_boost_round=num_boost_round,\n",
    "    evals=[(dtest, \"Test\")],\n",
    "    early_stopping_rounds=10\n",
    "    \n",
    ")"
   ]
  },
  {
   "cell_type": "code",
   "execution_count": null,
   "metadata": {
    "hidden": true
   },
   "outputs": [],
   "source": [
    "dpred = xgb.DMatrix(data2_df_onehot)\n",
    "\n",
    "y_pred = model.predict(dpred)\n",
    "y_pred = np.square(y_pred)"
   ]
  },
  {
   "cell_type": "markdown",
   "metadata": {},
   "source": [
    "## Model 2"
   ]
  },
  {
   "cell_type": "code",
   "execution_count": 213,
   "metadata": {
    "ExecuteTime": {
     "end_time": "2021-07-15T16:43:01.901869Z",
     "start_time": "2021-07-15T16:43:01.271823Z"
    }
   },
   "outputs": [
    {
     "name": "stderr",
     "output_type": "stream",
     "text": [
      "C:\\Users\\sadhna kunj\\Miniconda3\\envs\\myenv\\lib\\site-packages\\seaborn\\distributions.py:2557: FutureWarning: `distplot` is a deprecated function and will be removed in a future version. Please adapt your code to use either `displot` (a figure-level function with similar flexibility) or `histplot` (an axes-level function for histograms).\n",
      "  warnings.warn(msg, FutureWarning)\n"
     ]
    },
    {
     "data": {
      "text/plain": [
       "<matplotlib.axes._subplots.AxesSubplot at 0x1edffd72f28>"
      ]
     },
     "execution_count": 213,
     "metadata": {},
     "output_type": "execute_result"
    },
    {
     "data": {
      "image/png": "[encoded data removed]",
      "text/plain": [
       "<Figure size 432x288 with 1 Axes>"
      ]
     },
     "metadata": {
      "needs_background": "light"
     },
     "output_type": "display_data"
    }
   ],
   "source": [
    "sns.distplot(np.log1p(train['target_carbon_monoxide']))"
   ]
  },
  {
   "cell_type": "code",
   "execution_count": null,
   "metadata": {
    "ExecuteTime": {
     "start_time": "2021-07-15T16:43:16.356Z"
    }
   },
   "outputs": [],
   "source": [
    "sns.distplot(np.cbrt(train['target_benzene']))"
   ]
  },
  {
   "cell_type": "code",
   "execution_count": 204,
   "metadata": {
    "ExecuteTime": {
     "end_time": "2021-07-15T16:41:53.705295Z",
     "start_time": "2021-07-15T16:41:53.022464Z"
    }
   },
   "outputs": [
    {
     "name": "stderr",
     "output_type": "stream",
     "text": [
      "C:\\Users\\sadhna kunj\\Miniconda3\\envs\\myenv\\lib\\site-packages\\seaborn\\distributions.py:2557: FutureWarning: `distplot` is a deprecated function and will be removed in a future version. Please adapt your code to use either `displot` (a figure-level function with similar flexibility) or `histplot` (an axes-level function for histograms).\n",
      "  warnings.warn(msg, FutureWarning)\n"
     ]
    },
    {
     "data": {
      "text/plain": [
       "<matplotlib.axes._subplots.AxesSubplot at 0x1edff35fbe0>"
      ]
     },
     "execution_count": 204,
     "metadata": {},
     "output_type": "execute_result"
    },
    {
     "data": {
      "image/png": "[encoded data removed]",
      "text/plain": [
       "<Figure size 432x288 with 1 Axes>"
      ]
     },
     "metadata": {
      "needs_background": "light"
     },
     "output_type": "display_data"
    }
   ],
   "source": [
    "sns.distplot(np.cbrt(train['target_nitrogen_oxides']))"
   ]
  },
  {
   "cell_type": "code",
   "execution_count": null,
   "metadata": {},
   "outputs": [],
   "source": []
  }
 ],
 "metadata": {
  "kernelspec": {
   "display_name": "Python 3",
   "language": "python",
   "name": "python3"
  },
  "language_info": {
   "codemirror_mode": {
    "name": "ipython",
    "version": 3
   },
   "file_extension": ".py",
   "mimetype": "text/x-python",
   "name": "python",
   "nbconvert_exporter": "python",
   "pygments_lexer": "ipython3",
   "version": "3.6.9"
  }
 },
 "nbformat": 4,
 "nbformat_minor": 2
}
